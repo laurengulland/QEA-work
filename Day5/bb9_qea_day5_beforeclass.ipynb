{
 "cells": [
  {
   "cell_type": "code",
   "execution_count": 58,
   "metadata": {
    "collapsed": false
   },
   "outputs": [],
   "source": [
    "%matplotlib inline\n",
    "import pandas as pd\n",
    "import numpy as np\n",
    "import matplotlib.pyplot as plt\n",
    "import seaborn as sns\n",
    "import csv\n",
    "#import scipy.io.wavfile\n",
    "import scipy.ndimage as sp\n",
    "#import calendar"
   ]
  },
  {
   "cell_type": "markdown",
   "metadata": {},
   "source": [
    "## Histograms, Means, and Standard Deviations"
   ]
  },
  {
   "cell_type": "code",
   "execution_count": 39,
   "metadata": {
    "collapsed": false
   },
   "outputs": [
    {
     "name": "stdout",
     "output_type": "stream",
     "text": [
      "[64, 65, 66, 67, 68, 69, 70, 71, 72, 73, 74, 75, 78, 62, 63]\n",
      "[4, 4, 5, 3, 3, 3, 8, 3, 2, 1, 1, 1, 1, 2, 1]\n"
     ]
    }
   ],
   "source": [
    "h = [63, 66, 71, 65, 70, 66, 67, 65, 67, 74, 64, 75, 68, 67, 70, 73, 66, 70, 72, 62, 68, \n",
    "     70, 62, 69, 66, 70, 70, 68, 69, 70, 71, 65, 64, 71, 64, 78, 69, 70, 65, 66, 72, 64]\n",
    "\n",
    "d = {}\n",
    "for i in h:\n",
    "    d[i] = d.get(i, 0)+1\n",
    "\n",
    "histlist = []\n",
    "for i in d:\n",
    "    histlist.append((i, d.get(i)))\n",
    "    \n",
    "sorted(histlist)\n",
    "hist0 = [i for (i,j) in histlist]\n",
    "hist1 = [j for (i,j) in histlist]"
   ]
  },
  {
   "cell_type": "code",
   "execution_count": 21,
   "metadata": {
    "collapsed": true
   },
   "outputs": [],
   "source": [
    "#not used yet, just pulled from previous code now in case it's relevant\n",
    "def figshow(f):\n",
    "    fig = plt.figure(figsize=(4,4))\n",
    "    plt.grid(False)\n",
    "    plt.imshow(f);"
   ]
  },
  {
   "cell_type": "code",
   "execution_count": 41,
   "metadata": {
    "collapsed": false
   },
   "outputs": [
    {
     "data": {
      "image/png": "[encoded data removed]",
      "text/plain": [
       "<matplotlib.figure.Figure object at 0x7f242a763950>"
      ]
     },
     "metadata": {},
     "output_type": "display_data"
    }
   ],
   "source": [
    "plt.bar(hist0, hist1, width=1)\n",
    "plt.title(\"Faculty Heights Histogram\")\n",
    "plt.xlabel(\"Height\")\n",
    "plt.xticks(np.arange(78-62+2)+62)\n",
    "plt.ylabel(\"Frequency\")\n",
    "\n",
    "fig = plt.gcf()"
   ]
  },
  {
   "cell_type": "code",
   "execution_count": 56,
   "metadata": {
    "collapsed": false
   },
   "outputs": [
    {
     "name": "stdout",
     "output_type": "stream",
     "text": [
      "[477/7, 68.142857142857139]\n",
      "[1/7*sqrt(1831/3), 3.5292750407024345]\n"
     ]
    }
   ],
   "source": [
    "heights_mean = sum(h)/len(h)\n",
    "heights_stdDev = sqrt(sum([(heights_mean-i)**2 for i in h])//len(h))\n",
    "\n",
    "heights_mean_auto = np.mean(h)\n",
    "heights_stdDev_auto = np.std(h)\n",
    "\n",
    "print [heights_mean, heights_mean_auto] #these are equal\n",
    "print [heights_stdDev, heights_stdDev_auto] #these are equal\n"
   ]
  },
  {
   "cell_type": "markdown",
   "metadata": {},
   "source": [
    "# Correlation"
   ]
  },
  {
   "cell_type": "code",
   "execution_count": null,
   "metadata": {
    "collapsed": true
   },
   "outputs": [],
   "source": [
    "#not used any more - panda data frames are easier\n",
    "stringData = []\n",
    "with open('./stateData.csv','rb') as csvfile:\n",
    "    stateData = csv.reader(csvfile, delimiter=' ', quotechar='|')\n",
    "    for line in stateData:\n",
    "        stringData.append(line)\n",
    "data = []\n",
    "for j in range(len(stringData)-1):\n",
    "    data.append([i for i in stringData[j][0].split(',')])"
   ]
  },
  {
   "cell_type": "code",
   "execution_count": 110,
   "metadata": {
    "collapsed": false
   },
   "outputs": [
    {
     "data": {
      "text/html": [
       "<div>\n",
       "<table border=\"1\" class=\"dataframe\">\n",
       "  <thead>\n",
       "    <tr style=\"text-align: right;\">\n",
       "      <th></th>\n",
       "      <th>State Name</th>\n",
       "      <th>Poverty</th>\n",
       "      <th>Infant Mort</th>\n",
       "      <th>White</th>\n",
       "      <th>Crime</th>\n",
       "      <th>Doctors</th>\n",
       "      <th>Traf Deaths</th>\n",
       "      <th>University</th>\n",
       "      <th>Unemployed</th>\n",
       "      <th>Income</th>\n",
       "    </tr>\n",
       "  </thead>\n",
       "  <tbody>\n",
       "    <tr>\n",
       "      <th>0</th>\n",
       "      <td>Alabama</td>\n",
       "      <td>15.7</td>\n",
       "      <td>9.0</td>\n",
       "      <td>71.0</td>\n",
       "      <td>448</td>\n",
       "      <td>218.2</td>\n",
       "      <td>1.81</td>\n",
       "      <td>22.0</td>\n",
       "      <td>5.0</td>\n",
       "      <td>42666</td>\n",
       "    </tr>\n",
       "    <tr>\n",
       "      <th>1</th>\n",
       "      <td>Alaska</td>\n",
       "      <td>8.4</td>\n",
       "      <td>6.9</td>\n",
       "      <td>70.6</td>\n",
       "      <td>661</td>\n",
       "      <td>228.5</td>\n",
       "      <td>1.63</td>\n",
       "      <td>27.3</td>\n",
       "      <td>6.7</td>\n",
       "      <td>68460</td>\n",
       "    </tr>\n",
       "    <tr>\n",
       "      <th>2</th>\n",
       "      <td>Arizona</td>\n",
       "      <td>14.7</td>\n",
       "      <td>6.4</td>\n",
       "      <td>86.5</td>\n",
       "      <td>483</td>\n",
       "      <td>209.7</td>\n",
       "      <td>1.69</td>\n",
       "      <td>25.1</td>\n",
       "      <td>5.5</td>\n",
       "      <td>50958</td>\n",
       "    </tr>\n",
       "    <tr>\n",
       "      <th>3</th>\n",
       "      <td>Arkansas</td>\n",
       "      <td>17.3</td>\n",
       "      <td>8.5</td>\n",
       "      <td>80.8</td>\n",
       "      <td>529</td>\n",
       "      <td>203.4</td>\n",
       "      <td>1.96</td>\n",
       "      <td>18.8</td>\n",
       "      <td>5.1</td>\n",
       "      <td>38815</td>\n",
       "    </tr>\n",
       "    <tr>\n",
       "      <th>4</th>\n",
       "      <td>California</td>\n",
       "      <td>13.3</td>\n",
       "      <td>5.0</td>\n",
       "      <td>76.6</td>\n",
       "      <td>523</td>\n",
       "      <td>268.7</td>\n",
       "      <td>1.21</td>\n",
       "      <td>29.6</td>\n",
       "      <td>7.2</td>\n",
       "      <td>61021</td>\n",
       "    </tr>\n",
       "    <tr>\n",
       "      <th>5</th>\n",
       "      <td>Colorado</td>\n",
       "      <td>11.4</td>\n",
       "      <td>5.7</td>\n",
       "      <td>89.7</td>\n",
       "      <td>348</td>\n",
       "      <td>259.7</td>\n",
       "      <td>1.14</td>\n",
       "      <td>35.6</td>\n",
       "      <td>4.9</td>\n",
       "      <td>56993</td>\n",
       "    </tr>\n",
       "    <tr>\n",
       "      <th>6</th>\n",
       "      <td>Connecticut</td>\n",
       "      <td>9.3</td>\n",
       "      <td>6.2</td>\n",
       "      <td>84.3</td>\n",
       "      <td>256</td>\n",
       "      <td>376.4</td>\n",
       "      <td>0.86</td>\n",
       "      <td>35.6</td>\n",
       "      <td>5.7</td>\n",
       "      <td>68595</td>\n",
       "    </tr>\n",
       "    <tr>\n",
       "      <th>7</th>\n",
       "      <td>Delaware</td>\n",
       "      <td>10.0</td>\n",
       "      <td>8.3</td>\n",
       "      <td>74.3</td>\n",
       "      <td>689</td>\n",
       "      <td>250.9</td>\n",
       "      <td>1.23</td>\n",
       "      <td>27.5</td>\n",
       "      <td>4.8</td>\n",
       "      <td>57989</td>\n",
       "    </tr>\n",
       "    <tr>\n",
       "      <th>8</th>\n",
       "      <td>Florida</td>\n",
       "      <td>13.2</td>\n",
       "      <td>7.3</td>\n",
       "      <td>79.8</td>\n",
       "      <td>723</td>\n",
       "      <td>247.9</td>\n",
       "      <td>1.56</td>\n",
       "      <td>25.8</td>\n",
       "      <td>6.2</td>\n",
       "      <td>47778</td>\n",
       "    </tr>\n",
       "    <tr>\n",
       "      <th>9</th>\n",
       "      <td>Georgia</td>\n",
       "      <td>14.7</td>\n",
       "      <td>8.1</td>\n",
       "      <td>65.4</td>\n",
       "      <td>493</td>\n",
       "      <td>217.4</td>\n",
       "      <td>1.46</td>\n",
       "      <td>27.5</td>\n",
       "      <td>6.2</td>\n",
       "      <td>50861</td>\n",
       "    </tr>\n",
       "    <tr>\n",
       "      <th>10</th>\n",
       "      <td>Hawaii</td>\n",
       "      <td>9.1</td>\n",
       "      <td>5.6</td>\n",
       "      <td>29.7</td>\n",
       "      <td>273</td>\n",
       "      <td>317.0</td>\n",
       "      <td>1.33</td>\n",
       "      <td>29.1</td>\n",
       "      <td>3.9</td>\n",
       "      <td>67214</td>\n",
       "    </tr>\n",
       "    <tr>\n",
       "      <th>11</th>\n",
       "      <td>Idaho</td>\n",
       "      <td>12.6</td>\n",
       "      <td>6.8</td>\n",
       "      <td>94.6</td>\n",
       "      <td>239</td>\n",
       "      <td>168.8</td>\n",
       "      <td>1.60</td>\n",
       "      <td>24.0</td>\n",
       "      <td>4.9</td>\n",
       "      <td>47576</td>\n",
       "    </tr>\n",
       "  </tbody>\n",
       "</table>\n",
       "</div>"
      ],
      "text/plain": [
       "     State Name  Poverty  Infant Mort  White  Crime  Doctors  Traf Deaths  \\\n",
       "0       Alabama     15.7          9.0   71.0    448    218.2         1.81   \n",
       "1        Alaska      8.4          6.9   70.6    661    228.5         1.63   \n",
       "2       Arizona     14.7          6.4   86.5    483    209.7         1.69   \n",
       "3      Arkansas     17.3          8.5   80.8    529    203.4         1.96   \n",
       "4    California     13.3          5.0   76.6    523    268.7         1.21   \n",
       "5      Colorado     11.4          5.7   89.7    348    259.7         1.14   \n",
       "6   Connecticut      9.3          6.2   84.3    256    376.4         0.86   \n",
       "7      Delaware     10.0          8.3   74.3    689    250.9         1.23   \n",
       "8       Florida     13.2          7.3   79.8    723    247.9         1.56   \n",
       "9       Georgia     14.7          8.1   65.4    493    217.4         1.46   \n",
       "10       Hawaii      9.1          5.6   29.7    273    317.0         1.33   \n",
       "11        Idaho     12.6          6.8   94.6    239    168.8         1.60   \n",
       "\n",
       "    University  Unemployed  Income  \n",
       "0         22.0         5.0   42666  \n",
       "1         27.3         6.7   68460  \n",
       "2         25.1         5.5   50958  \n",
       "3         18.8         5.1   38815  \n",
       "4         29.6         7.2   61021  \n",
       "5         35.6         4.9   56993  \n",
       "6         35.6         5.7   68595  \n",
       "7         27.5         4.8   57989  \n",
       "8         25.8         6.2   47778  \n",
       "9         27.5         6.2   50861  \n",
       "10        29.1         3.9   67214  \n",
       "11        24.0         4.9   47576  "
      ]
     },
     "execution_count": 110,
     "metadata": {},
     "output_type": "execute_result"
    }
   ],
   "source": [
    "pd.read_csv('./stateData.csv')"
   ]
  },
  {
   "cell_type": "code",
   "execution_count": 111,
   "metadata": {
    "collapsed": false
   },
   "outputs": [
    {
     "data": {
      "text/plain": [
       "0.69420837297396532"
      ]
     },
     "execution_count": 111,
     "metadata": {},
     "output_type": "execute_result"
    }
   ],
   "source": [
    "#This was easier than calculating it by hand, and more useful to me.\n",
    "\n",
    "def findCorrelation(df, test1, test2):\n",
    "    mean1 = df[test1].mean()\n",
    "    mean2 = df[test2].mean()\n",
    "    r=0\n",
    "    elements = len(df[test1])\n",
    "    for i in range(elements):\n",
    "        r+=((df[test1][i])-mean1)*((df[test2][i])-mean2)\n",
    "    rxy = r/elements/df[test1].std()/df[test2].std()\n",
    "    return rxy\n",
    "\n",
    "data = pd.read_csv('./stateData.csv')\n",
    "findCorrelation(data,'University','Income')"
   ]
  },
  {
   "cell_type": "code",
   "execution_count": 126,
   "metadata": {
    "collapsed": false
   },
   "outputs": [
    {
     "name": "stdout",
     "output_type": "stream",
     "text": [
      "[[-1.08551776 -1.21397563  1.57928167]\n",
      " [-0.00509633  1.34335929 -0.06525957]\n",
      " [-0.45357315 -0.39186889 -0.45681701]\n",
      " [-1.73784768 -1.59578135  1.18772423]\n",
      " [ 0.4637658   0.60582287 -1.55317784]\n",
      " [ 1.68688441  0.20646856 -1.00499742]\n",
      " [ 1.68688441  1.3567438  -0.61343999]\n",
      " [ 0.03567429  0.30521654  1.03110125]\n",
      " [-0.31087598 -0.70714861  0.24798638]\n",
      " [ 0.03567429 -0.40148592  0.87447828]\n",
      " [ 0.36183925  1.21982516 -1.08330891]\n",
      " [-0.67781156 -0.72717581 -0.14357106]]\n",
      "[[-1.08551776 -0.00509633 -0.45357315 -1.73784768  0.4637658   1.68688441\n",
      "   1.68688441  0.03567429 -0.31087598  0.03567429  0.36183925 -0.67781156]\n",
      " [-1.21397563  1.34335929 -0.39186889 -1.59578135  0.60582287  0.20646856\n",
      "   1.3567438   0.30521654 -0.70714861 -0.40148592  1.21982516 -0.72717581]\n",
      " [ 1.57928167 -0.06525957 -0.45681701  1.18772423 -1.55317784 -1.00499742\n",
      "  -0.61343999  1.03110125  0.24798638  0.87447828 -1.08330891 -0.14357106]]\n"
     ]
    }
   ],
   "source": [
    "#Create three column vector of (data-mean)/stdDev for 3 given categories in dataframe\n",
    "\n",
    "row_vectors = []\n",
    "for i in ['University','Income','Infant Mort']:\n",
    "    l = data[i]\n",
    "    l_vector = (l-l.mean())/l.std()\n",
    "    row_vectors.append(l_vector)\n",
    "\n",
    "col_vectors = np.transpose(row_vectors)\n",
    "print col_vectors\n",
    "row_vectors = np.transpose(col_vectors)\n",
    "print row_vectors"
   ]
  },
  {
   "cell_type": "markdown",
   "metadata": {
    "collapsed": false
   },
   "source": [
    "## Linear Regression"
   ]
  },
  {
   "cell_type": "code",
   "execution_count": 139,
   "metadata": {
    "collapsed": false
   },
   "outputs": [
    {
     "name": "stdout",
     "output_type": "stream",
     "text": [
      "595\n",
      "285\n",
      "40037\n",
      "19441\n",
      "9\n"
     ]
    }
   ],
   "source": [
    "t = [53,54,58,66,69,70,71,73,81]\n",
    "c = [19,26,21,33,31,36,36,38,45]\n",
    "\n",
    "xi = sum(t)\n",
    "yi = sum(c)\n",
    "xsqr = sum([i**2 for i in t])\n",
    "xiyi = sum([t[i]*c[i] for i in range(len(t))])\n",
    "n  = len(t)\n",
    "\n",
    "print xi\n",
    "print yi\n",
    "print xsqr\n",
    "print xiyi\n",
    "print n"
   ]
  },
  {
   "cell_type": "code",
   "execution_count": 141,
   "metadata": {
    "collapsed": false
   },
   "outputs": [],
   "source": [
    "a = [[xsqr, xi],[xi,n]]\n",
    "a_inv = np.linalg.inv(a)\n",
    "v = [[xiyi],[yi]]\n",
    "\n",
    "[[a],[b]] = np.dot(a_inv,v) #find a and b\n",
    "\n",
    "#find two points on line of best fit for plotting\n",
    "y1 = a*t[0]+b\n",
    "y2 = a*t[n-1]+b"
   ]
  },
  {
   "cell_type": "code",
   "execution_count": 142,
   "metadata": {
    "collapsed": false
   },
   "outputs": [
    {
     "data": {
      "image/png": "[encoded data removed]",
      "text/plain": [
       "<matplotlib.figure.Figure object at 0x7f242a4fb090>"
      ]
     },
     "metadata": {},
     "output_type": "display_data"
    }
   ],
   "source": [
    "plt.plot(t,c)\n",
    "plt.plot([t[0], t[n-1]],[y1, y2]) #line of best fit \n",
    "plt.show()"
   ]
  },
  {
   "cell_type": "code",
   "execution_count": null,
   "metadata": {
    "collapsed": true
   },
   "outputs": [],
   "source": []
  }
 ],
 "metadata": {
  "kernelspec": {
   "display_name": "SageMath 7.0",
   "language": "sagemath",
   "name": "sagemath"
  },
  "language_info": {
   "codemirror_mode": {
    "name": "ipython",
    "version": 2
   },
   "file_extension": ".py",
   "mimetype": "text/x-python",
   "name": "python",
   "nbconvert_exporter": "python",
   "pygments_lexer": "ipython2",
   "version": "2.7.10"
  }
 },
 "nbformat": 4,
 "nbformat_minor": 0
}
